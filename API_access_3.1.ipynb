{
 "cells": [
  {
   "cell_type": "markdown",
   "metadata": {},
   "source": [
    "# Task 3 (Choice 1)\n",
    "## Using API access\n",
    "### This was an initial choice to use Tripadvisor API access for obtaining the data (Tripadvisor reviews), however, after successfully registering, gaining API key with some free request amount, implementing code and successfully obtaining some data, it appeared that there is a limitation for reviews that can be obtained - up to 5 reviews. Since paying additional fee for upgraded plan was not an option, Web scraping was chosen (WEB_Scraping.ipynb).\n",
    "\n",
    "### First successful steps for using API key are demonstrated below, however, API key data has been removed."
   ]
  },
  {
   "cell_type": "code",
   "execution_count": 1,
   "metadata": {},
   "outputs": [
    {
     "name": "stdout",
     "output_type": "stream",
     "text": [
      "{\"Message\":\"User is not authorized to access this resource with an explicit deny\"}\n",
      "\n"
     ]
    }
   ],
   "source": [
    "import requests\n",
    "import json\n",
    "\n",
    "api_key = \"\"\n",
    "\n",
    "url = \"https://api.content.tripadvisor.com/api/v1/location/4355971/reviews?language=en&limit=200&key=XXX\"\n",
    "\n",
    "headers = {\"accept\": \"application/json\"}\n",
    "\n",
    "response = requests.get(url, headers=headers)\n",
    "\n",
    "print(response.text)\n",
    "\n",
    "data = response.json()\n",
    "\n",
    "reviews = data.get(\"data\", [])\n",
    "for review in reviews:\n",
    "    print(f\"Title: {review['title']}\")\n",
    "    print(f\"Rating: {review['rating']}\")\n",
    "    print(f\"Text: {review['text']}\")\n",
    "    print(f\"Published Date: {review['published_date']}\")\n",
    "    print(f\"User: {review['user']['username']}\")\n",
    "    print(\"=\" * 50)\n"
   ]
  }
 ],
 "metadata": {
  "kernelspec": {
   "display_name": "Python 3",
   "language": "python",
   "name": "python3"
  },
  "language_info": {
   "codemirror_mode": {
    "name": "ipython",
    "version": 3
   },
   "file_extension": ".py",
   "mimetype": "text/x-python",
   "name": "python",
   "nbconvert_exporter": "python",
   "pygments_lexer": "ipython3",
   "version": "3.12.7"
  }
 },
 "nbformat": 4,
 "nbformat_minor": 2
}
